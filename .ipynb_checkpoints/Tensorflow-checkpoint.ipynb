{
 "cells": [
  {
   "metadata": {},
   "cell_type": "markdown",
   "source": "## Tensorflow ",
   "id": "ad3bcfe65fbd6553"
  },
  {
   "metadata": {},
   "cell_type": "code",
   "outputs": [],
   "execution_count": null,
   "source": [
    "import tensorflow as tf\n",
    "\n",
    "a = tf.Variable(1, name='a')\n",
    "b = tf.Variable(2, name='b')\n",
    "f = a + b\n",
    "\n",
    "tf.print(\"The sum of a and b is: \", f)"
   ],
   "id": "63a8d38f8963a0f3"
  }
 ],
 "metadata": {
  "kernelspec": {
   "display_name": "Python 3",
   "language": "python",
   "name": "python3"
  },
  "language_info": {
   "codemirror_mode": {
    "name": "ipython",
    "version": 2
   },
   "file_extension": ".py",
   "mimetype": "text/x-python",
   "name": "python",
   "nbconvert_exporter": "python",
   "pygments_lexer": "ipython2",
   "version": "2.7.6"
  }
 },
 "nbformat": 4,
 "nbformat_minor": 5
}
